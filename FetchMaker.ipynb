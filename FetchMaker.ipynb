{
 "cells": [
  {
   "cell_type": "code",
   "execution_count": null,
   "id": "3e6dbf4c",
   "metadata": {},
   "outputs": [],
   "source": [
    "import numpy as np\n",
    "import fetchmaker as fm\n",
    "from scipy.stats import binom_test\n",
    "from scipy.stats import f_oneway\n",
    "from statsmodels.stats.multicomp import pairwise_tukeyhsd\n",
    "from scipy.stats import chi2_contingency\n",
    "\n",
    "rottweiler_tl = fm.get_tail_length(\"rottweiler\")\n",
    "rottweiler_tl_mean = np.mean(rottweiler_tl)\n",
    "rottweiler_tl_std = np.std(rottweiler_tl)\n",
    "print(rottweiler_tl_mean)\n",
    "print(rottweiler_tl_std)\n",
    "\n",
    "whippet_rescue = fm.get_is_rescue(\"whippet\")\n",
    "num_whippet_rescues = np.count_nonzero(whippet_rescue)\n",
    "num_whippets = np.size(whippet_rescue)\n",
    "pval = binom_test(num_whippet_rescues, num_whippets, .08)\n",
    "print(pval)\n",
    "\n",
    "whippet_weight = fm.get_weight(\"whippet\")\n",
    "terrier_weight = fm.get_weight(\"terrier\")\n",
    "pitbull_weight = fm.get_weight(\"pitbull\")\n",
    "\n",
    "stat, pval2 = f_oneway(whippet_weight, terrier_weight, pitbull_weight)\n",
    "print(pval2)\n",
    "\n",
    "\n",
    "values = np.concatenate([whippet_weight, terrier_weight, pitbull_weight])\n",
    "labels = [\"whippet\"] * len(whippet_weight) + [\"terrier\"] * len(terrier_weight) + [\"pitbull\"] * len(pitbull_weight)\n",
    "pairwise_result = pairwise_tukeyhsd(values, labels, .05)\n",
    "print(pairwise_result)\n",
    "\n",
    "\n",
    "\n",
    "poodle_colors = fm.get_color(\"poodle\")\n",
    "shihtzu_colors = fm.get_color(\"shihtzu\")\n",
    "\n",
    "\n",
    "color_table = [\n",
    "  [np.count_nonzero(poodle_colors == \"brown\"), np.count_nonzero(shihtzu_colors == \"brown\")],\n",
    "  [np.count_nonzero(poodle_colors == \"black\"), np.count_nonzero(shihtzu_colors == \"black\")],\n",
    "  [np.count_nonzero(poodle_colors == \"gold\"), np.count_nonzero(shihtzu_colors == \"gold\")],\n",
    "  [np.count_nonzero(poodle_colors == \"grey\"), np.count_nonzero(shihtzu_colors == \"grey\")],\n",
    "  [np.count_nonzero(poodle_colors == \"white\"), np.count_nonzero(shihtzu_colors == \"white\")]\n",
    "]\n",
    "\n",
    "print(color_table)\n",
    "_, pval, _, _ = chi2_contingency(color_table)\n",
    "print(pval)\n",
    "\n"
   ]
  }
 ],
 "metadata": {
  "kernelspec": {
   "display_name": "Python 3",
   "language": "python",
   "name": "python3"
  },
  "language_info": {
   "codemirror_mode": {
    "name": "ipython",
    "version": 3
   },
   "file_extension": ".py",
   "mimetype": "text/x-python",
   "name": "python",
   "nbconvert_exporter": "python",
   "pygments_lexer": "ipython3",
   "version": "3.8.8"
  }
 },
 "nbformat": 4,
 "nbformat_minor": 5
}
